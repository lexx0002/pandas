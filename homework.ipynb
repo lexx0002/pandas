{
 "cells": [
  {
   "cell_type": "code",
   "execution_count": 24,
   "metadata": {},
   "outputs": [],
   "source": [
    "import pandas as pd\n",
    "\n",
    "\n",
    "def get_data_by_year(year_list):\n",
    "    df_list = list()\n",
    "\n",
    "    for year in year_list:\n",
    "        file_path = 'yob' + str(year) + '.txt'\n",
    "        df = pd.read_csv(file_path, names=['Name', 'Sex', 'Count'])\n",
    "        df['Year'] = year\n",
    "        df_list.append(df)\n",
    "\n",
    "    return pd.concat(df_list)"
   ]
  },
  {
   "cell_type": "code",
   "execution_count": 25,
   "metadata": {},
   "outputs": [],
   "source": [
    "def count_top3(year_list):\n",
    "\n",
    "    df = get_data_by_year(year_list)\n",
    "    df_grouped = df.groupby(\n",
    "    by=['Name']).sum().reset_index()\n",
    "    top_3 = df_grouped.sort_values(by='Count', ascending=False)\n",
    "\n",
    "    return top_3.head(3)['Name'].to_list()"
   ]
  },
  {
   "cell_type": "code",
   "execution_count": 26,
   "metadata": {},
   "outputs": [
    {
     "data": {
      "text/plain": [
       "['John', 'William', 'Mary']"
      ]
     },
     "execution_count": 26,
     "metadata": {},
     "output_type": "execute_result"
    }
   ],
   "source": [
    "count_top3([1880])"
   ]
  },
  {
   "cell_type": "code",
   "execution_count": 27,
   "metadata": {},
   "outputs": [],
   "source": [
    "def count_dynamics(year_list):\n",
    "    df = get_data_by_year(year_list)\n",
    "    df_grouped = df.groupby(\n",
    "        by=['Sex', 'Year']\n",
    "    ).sum()\n",
    "    df_grouped = df_grouped.reset_index()\n",
    "    result = dict()\n",
    "    result['F'] = df_grouped[df_grouped['Sex'] == 'F']['Count'].to_list()\n",
    "    result['M'] = df_grouped[df_grouped['Sex'] == 'M']['Count'].to_list()\n",
    "\n",
    "    return result"
   ]
  },
  {
   "cell_type": "code",
   "execution_count": 28,
   "metadata": {},
   "outputs": [
    {
     "data": {
      "text/plain": [
       "{'F': [90994, 107847], 'M': [110490, 113686]}"
      ]
     },
     "execution_count": 28,
     "metadata": {},
     "output_type": "execute_result"
    }
   ],
   "source": [
    "count_dynamics([1880, 1882])"
   ]
  },
  {
   "cell_type": "code",
   "execution_count": null,
   "metadata": {},
   "outputs": [],
   "source": []
  }
 ],
 "metadata": {
  "kernelspec": {
   "display_name": "Python 3",
   "language": "python",
   "name": "python3"
  },
  "language_info": {
   "codemirror_mode": {
    "name": "ipython",
    "version": 3
   },
   "file_extension": ".py",
   "mimetype": "text/x-python",
   "name": "python",
   "nbconvert_exporter": "python",
   "pygments_lexer": "ipython3",
   "version": "3.7.3"
  }
 },
 "nbformat": 4,
 "nbformat_minor": 2
}
